{
 "cells": [
  {
   "cell_type": "code",
   "execution_count": 1,
   "metadata": {},
   "outputs": [],
   "source": [
    "class Shirt:\n",
    "    \n",
    "    def __init__(self,shirt_color,shirt_size,shirt_style,shirt_price):\n",
    "        self.color = shirt_color\n",
    "        self.size = shirt_size\n",
    "        self.style = shirt_style\n",
    "        self.price = shirt_price\n",
    "    \n",
    "    def change_price(self, new_price):\n",
    "    \n",
    "        self.price = new_price\n",
    "        \n",
    "    def discount(self, discount):\n",
    "\n",
    "        return self.price * (1 - discount)"
   ]
  },
  {
   "cell_type": "code",
   "execution_count": 2,
   "metadata": {},
   "outputs": [],
   "source": [
    "shirt_one=Shirt('red','S','long-sleeve','25')"
   ]
  },
  {
   "cell_type": "code",
   "execution_count": 17,
   "metadata": {},
   "outputs": [
    {
     "name": "stdout",
     "output_type": "stream",
     "text": [
      "10\n"
     ]
    }
   ],
   "source": [
    "shirt_one.change_price(10)\n",
    "print(shirt_one.price)\n",
    "discounted_price=shirt_one.discount(0.14)"
   ]
  },
  {
   "cell_type": "code",
   "execution_count": 20,
   "metadata": {},
   "outputs": [
    {
     "name": "stdout",
     "output_type": "stream",
     "text": [
      "18.0\n"
     ]
    }
   ],
   "source": [
    "shirt_two=Shirt('orange','L','short-sleeve',10)\n",
    "discounted_price2=shirt_two.discount(0.06)\n",
    "total=discounted_price+discounted_price2\n",
    "print(total)"
   ]
  },
  {
   "cell_type": "code",
   "execution_count": null,
   "metadata": {},
   "outputs": [],
   "source": []
  }
 ],
 "metadata": {
  "kernelspec": {
   "display_name": "Python 3",
   "language": "python",
   "name": "python3"
  },
  "language_info": {
   "codemirror_mode": {
    "name": "ipython",
    "version": 3
   },
   "file_extension": ".py",
   "mimetype": "text/x-python",
   "name": "python",
   "nbconvert_exporter": "python",
   "pygments_lexer": "ipython3",
   "version": "3.7.1"
  }
 },
 "nbformat": 4,
 "nbformat_minor": 2
}
